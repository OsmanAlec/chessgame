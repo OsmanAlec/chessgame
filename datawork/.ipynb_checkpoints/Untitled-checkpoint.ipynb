{
 "cells": [
  {
   "cell_type": "code",
   "execution_count": 5,
   "id": "3f4242ad",
   "metadata": {},
   "outputs": [
    {
     "name": "stdout",
     "output_type": "stream",
     "text": [
      "Total records: 21235397\n"
     ]
    },
    {
     "ename": "NameError",
     "evalue": "name 'tqdm' is not defined",
     "output_type": "error",
     "traceback": [
      "\u001b[1;31m---------------------------------------------------------------------------\u001b[0m",
      "\u001b[1;31mNameError\u001b[0m                                 Traceback (most recent call last)",
      "\u001b[1;32m~\\AppData\\Local\\Temp\\ipykernel_16428\\4288303224.py\u001b[0m in \u001b[0;36m<module>\u001b[1;34m\u001b[0m\n\u001b[0;32m     22\u001b[0m \u001b[1;33m\u001b[0m\u001b[0m\n\u001b[0;32m     23\u001b[0m \u001b[1;32mwith\u001b[0m \u001b[0menv_in\u001b[0m\u001b[1;33m.\u001b[0m\u001b[0mbegin\u001b[0m\u001b[1;33m(\u001b[0m\u001b[1;33m)\u001b[0m \u001b[1;32mas\u001b[0m \u001b[0mtxn_in\u001b[0m\u001b[1;33m:\u001b[0m\u001b[1;33m\u001b[0m\u001b[1;33m\u001b[0m\u001b[0m\n\u001b[1;32m---> 24\u001b[1;33m     \u001b[1;32mfor\u001b[0m \u001b[0mi\u001b[0m \u001b[1;32min\u001b[0m \u001b[0mtqdm\u001b[0m\u001b[1;33m(\u001b[0m\u001b[0mrange\u001b[0m\u001b[1;33m(\u001b[0m\u001b[0mtotal_records\u001b[0m\u001b[1;33m)\u001b[0m\u001b[1;33m,\u001b[0m \u001b[0mdesc\u001b[0m\u001b[1;33m=\u001b[0m\u001b[1;34m\"Sharding LMDB\"\u001b[0m\u001b[1;33m)\u001b[0m\u001b[1;33m:\u001b[0m\u001b[1;33m\u001b[0m\u001b[1;33m\u001b[0m\u001b[0m\n\u001b[0m\u001b[0;32m     25\u001b[0m         \u001b[1;32mif\u001b[0m \u001b[0mkey_counter\u001b[0m \u001b[1;33m%\u001b[0m \u001b[0mshard_size\u001b[0m \u001b[1;33m==\u001b[0m \u001b[1;36m0\u001b[0m\u001b[1;33m:\u001b[0m\u001b[1;33m\u001b[0m\u001b[1;33m\u001b[0m\u001b[0m\n\u001b[0;32m     26\u001b[0m             \u001b[1;31m# Close previous shard\u001b[0m\u001b[1;33m\u001b[0m\u001b[1;33m\u001b[0m\u001b[1;33m\u001b[0m\u001b[0m\n",
      "\u001b[1;31mNameError\u001b[0m: name 'tqdm' is not defined"
     ]
    }
   ],
   "source": [
    "import lmdb\n",
    "import os\n",
    "from tqdm import tqdm  \n",
    "\n",
    "input_lmdb = \"chess_dataset.lmdb\"\n",
    "output_dir = \"chess_shards\"\n",
    "shard_size = 2_000_000 \n",
    "shard_map_size_gb = 10\n",
    "\n",
    "os.makedirs(output_dir, exist_ok=True)\n",
    "\n",
    "# Open input LMDB\n",
    "env_in = lmdb.open(input_lmdb, readonly=True, lock=False)\n",
    "with env_in.begin() as txn:\n",
    "    total_records = txn.stat()['entries']\n",
    "\n",
    "print(f\"Total records: {total_records}\")\n",
    "\n",
    "shard_idx = 0\n",
    "key_counter = 0\n",
    "env_out = None\n",
    "txn_out = None\n",
    "\n",
    "with env_in.begin() as txn_in:\n",
    "    for i in tqdm(range(total_records), desc=\"Sharding LMDB\"):\n",
    "        if key_counter % shard_size == 0:\n",
    "            # Close previous shard\n",
    "            if txn_out:\n",
    "                txn_out.commit()\n",
    "                env_out.close()\n",
    "            # Open new shard\n",
    "            shard_path = os.path.join(output_dir, f\"chess_dataset_shard_{shard_idx}.lmdb\")\n",
    "            env_out = lmdb.open(shard_path, map_size=shard_map_size_gb * (1024**3))\n",
    "            txn_out = env_out.begin(write=True)\n",
    "            shard_idx += 1\n",
    "            print(f\"Starting shard {shard_idx} at record {i}\")\n",
    "\n",
    "        key = i.to_bytes(8, \"big\")\n",
    "        val = txn_in.get(key)\n",
    "        if val:\n",
    "            txn_out.put(key, val)\n",
    "\n",
    "        # Commit every 100k for safety\n",
    "        if key_counter % 100_000 == 0 and key_counter > 0:\n",
    "            txn_out.commit()\n",
    "            txn_out = env_out.begin(write=True)\n",
    "\n",
    "        key_counter += 1\n",
    "\n",
    "# Commit last shard\n",
    "if txn_out:\n",
    "    txn_out.commit()\n",
    "if env_out:\n",
    "    env_out.close()\n",
    "\n",
    "print(f\"Done! Created {shard_idx} shards in {output_dir}\")"
   ]
  },
  {
   "cell_type": "code",
   "execution_count": null,
   "id": "6753f0bd",
   "metadata": {},
   "outputs": [],
   "source": []
  }
 ],
 "metadata": {
  "kernelspec": {
   "display_name": "Python 3 (ipykernel)",
   "language": "python",
   "name": "python3"
  },
  "language_info": {
   "codemirror_mode": {
    "name": "ipython",
    "version": 3
   },
   "file_extension": ".py",
   "mimetype": "text/x-python",
   "name": "python",
   "nbconvert_exporter": "python",
   "pygments_lexer": "ipython3",
   "version": "3.7.9"
  }
 },
 "nbformat": 4,
 "nbformat_minor": 5
}
