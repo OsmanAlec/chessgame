{
 "cells": [
  {
   "cell_type": "code",
   "execution_count": 6,
   "id": "3f4242ad",
   "metadata": {},
   "outputs": [
    {
     "name": "stdout",
     "output_type": "stream",
     "text": [
      "Total records: 21235397\n"
     ]
    },
    {
     "name": "stderr",
     "output_type": "stream",
     "text": [
      "Sharding LMDB:   0%|                                                                           | 21019/21235397 [00:00<01:41, 209141.58it/s]"
     ]
    },
    {
     "name": "stdout",
     "output_type": "stream",
     "text": [
      "Starting shard 1 at record 0\n"
     ]
    },
    {
     "name": "stderr",
     "output_type": "stream",
     "text": [
      "Sharding LMDB:  10%|███████                                                                   | 2028929/21235397 [00:12<03:37, 88199.06it/s]"
     ]
    },
    {
     "name": "stdout",
     "output_type": "stream",
     "text": [
      "Starting shard 2 at record 2000000\n"
     ]
    },
    {
     "name": "stderr",
     "output_type": "stream",
     "text": [
      "Sharding LMDB:  19%|██████████████                                                            | 4026300/21235397 [00:27<03:46, 75845.23it/s]"
     ]
    },
    {
     "name": "stdout",
     "output_type": "stream",
     "text": [
      "Starting shard 3 at record 4000000\n"
     ]
    },
    {
     "name": "stderr",
     "output_type": "stream",
     "text": [
      "Sharding LMDB:  28%|████████████████████▉                                                     | 6023734/21235397 [00:42<03:34, 71072.92it/s]"
     ]
    },
    {
     "name": "stdout",
     "output_type": "stream",
     "text": [
      "Starting shard 4 at record 6000000\n"
     ]
    },
    {
     "name": "stderr",
     "output_type": "stream",
     "text": [
      "Sharding LMDB:  38%|███████████████████████████▋                                             | 8055066/21235397 [00:54<01:14, 177408.43it/s]"
     ]
    },
    {
     "name": "stdout",
     "output_type": "stream",
     "text": [
      "Starting shard 5 at record 8000000\n"
     ]
    },
    {
     "name": "stderr",
     "output_type": "stream",
     "text": [
      "Sharding LMDB:  47%|█████████████████████████████████▉                                      | 10024058/21235397 [01:04<01:08, 163067.53it/s]"
     ]
    },
    {
     "name": "stdout",
     "output_type": "stream",
     "text": [
      "Starting shard 6 at record 10000000\n"
     ]
    },
    {
     "name": "stderr",
     "output_type": "stream",
     "text": [
      "Sharding LMDB:  57%|████████████████████████████████████████▊                               | 12027262/21235397 [01:15<00:48, 188569.82it/s]"
     ]
    },
    {
     "name": "stdout",
     "output_type": "stream",
     "text": [
      "Starting shard 7 at record 12000000\n"
     ]
    },
    {
     "name": "stderr",
     "output_type": "stream",
     "text": [
      "Sharding LMDB:  66%|███████████████████████████████████████████████▌                        | 14045205/21235397 [01:26<00:34, 205958.13it/s]"
     ]
    },
    {
     "name": "stdout",
     "output_type": "stream",
     "text": [
      "Starting shard 8 at record 14000000\n"
     ]
    },
    {
     "name": "stderr",
     "output_type": "stream",
     "text": [
      "Sharding LMDB:  76%|██████████████████████████████████████████████████████▍                 | 16037858/21235397 [01:36<00:28, 184523.75it/s]"
     ]
    },
    {
     "name": "stdout",
     "output_type": "stream",
     "text": [
      "Starting shard 9 at record 16000000\n"
     ]
    },
    {
     "name": "stderr",
     "output_type": "stream",
     "text": [
      "Sharding LMDB:  85%|█████████████████████████████████████████████████████████████▏          | 18033083/21235397 [01:46<00:17, 185708.71it/s]"
     ]
    },
    {
     "name": "stdout",
     "output_type": "stream",
     "text": [
      "Starting shard 10 at record 18000000\n"
     ]
    },
    {
     "name": "stderr",
     "output_type": "stream",
     "text": [
      "Sharding LMDB:  94%|███████████████████████████████████████████████████████████████████▉    | 20032579/21235397 [01:55<00:06, 181966.05it/s]"
     ]
    },
    {
     "name": "stdout",
     "output_type": "stream",
     "text": [
      "Starting shard 11 at record 20000000\n"
     ]
    },
    {
     "name": "stderr",
     "output_type": "stream",
     "text": [
      "Sharding LMDB: 100%|████████████████████████████████████████████████████████████████████████| 21235397/21235397 [02:01<00:00, 174340.70it/s]"
     ]
    },
    {
     "name": "stdout",
     "output_type": "stream",
     "text": [
      "Done! Created 11 shards in chess_shards\n"
     ]
    },
    {
     "name": "stderr",
     "output_type": "stream",
     "text": [
      "\n"
     ]
    }
   ],
   "source": [
    "import lmdb\n",
    "import os\n",
    "from tqdm import tqdm  \n",
    "\n",
    "input_lmdb = \"chess_dataset.lmdb\"\n",
    "output_dir = \"chess_shards\"\n",
    "shard_size = 2_000_000 \n",
    "shard_map_size_gb = 10\n",
    "\n",
    "os.makedirs(output_dir, exist_ok=True)\n",
    "\n",
    "# Open input LMDB\n",
    "env_in = lmdb.open(input_lmdb, readonly=True, lock=False)\n",
    "with env_in.begin() as txn:\n",
    "    total_records = txn.stat()['entries']\n",
    "\n",
    "print(f\"Total records: {total_records}\")\n",
    "\n",
    "shard_idx = 0\n",
    "key_counter = 0\n",
    "env_out = None\n",
    "txn_out = None\n",
    "\n",
    "with env_in.begin() as txn_in:\n",
    "    for i in tqdm(range(total_records), desc=\"Sharding LMDB\"):\n",
    "        if key_counter % shard_size == 0:\n",
    "            # Close previous shard\n",
    "            if txn_out:\n",
    "                txn_out.commit()\n",
    "                env_out.close()\n",
    "            # Open new shard\n",
    "            shard_path = os.path.join(output_dir, f\"chess_dataset_shard_{shard_idx}.lmdb\")\n",
    "            env_out = lmdb.open(shard_path, map_size=shard_map_size_gb * (1024**3))\n",
    "            txn_out = env_out.begin(write=True)\n",
    "            shard_idx += 1\n",
    "            print(f\"Starting shard {shard_idx} at record {i}\")\n",
    "\n",
    "        key = i.to_bytes(8, \"big\")\n",
    "        val = txn_in.get(key)\n",
    "        if val:\n",
    "            txn_out.put(key, val)\n",
    "\n",
    "        # Commit every 100k for safety\n",
    "        if key_counter % 100_000 == 0 and key_counter > 0:\n",
    "            txn_out.commit()\n",
    "            txn_out = env_out.begin(write=True)\n",
    "\n",
    "        key_counter += 1\n",
    "\n",
    "# Commit last shard\n",
    "if txn_out:\n",
    "    txn_out.commit()\n",
    "if env_out:\n",
    "    env_out.close()\n",
    "\n",
    "print(f\"Done! Created {shard_idx} shards in {output_dir}\")"
   ]
  },
  {
   "cell_type": "code",
   "execution_count": null,
   "id": "6753f0bd",
   "metadata": {},
   "outputs": [],
   "source": [
    "from google.colab import drive\n",
    "drive.mount('/content/drive')\n",
    "\n",
    "commit_dir = \"chess_shards\"\n",
    "\n",
    "idx = int(input(\"Which shard would you like to upload?\"))\n",
    "\n"
   ]
  }
 ],
 "metadata": {
  "kernelspec": {
   "display_name": "Python 3 (ipykernel)",
   "language": "python",
   "name": "python3"
  },
  "language_info": {
   "codemirror_mode": {
    "name": "ipython",
    "version": 3
   },
   "file_extension": ".py",
   "mimetype": "text/x-python",
   "name": "python",
   "nbconvert_exporter": "python",
   "pygments_lexer": "ipython3",
   "version": "3.7.9"
  }
 },
 "nbformat": 4,
 "nbformat_minor": 5
}
