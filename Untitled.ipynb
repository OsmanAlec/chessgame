{
 "cells": [
  {
   "cell_type": "code",
   "execution_count": 5,
   "id": "2f87daeb",
   "metadata": {},
   "outputs": [
    {
     "name": "stdout",
     "output_type": "stream",
     "text": [
      "Requirement already satisfied: torch in c:\\users\\synoo\\appdata\\local\\programs\\python\\python37\\lib\\site-packages (1.13.1)\n",
      "Requirement already satisfied: torchvision in c:\\users\\synoo\\appdata\\local\\programs\\python\\python37\\lib\\site-packages (0.14.1)\n",
      "Requirement already satisfied: typing-extensions in c:\\users\\synoo\\appdata\\local\\programs\\python\\python37\\lib\\site-packages (from torch) (4.7.1)\n",
      "Requirement already satisfied: numpy in c:\\users\\synoo\\appdata\\local\\programs\\python\\python37\\lib\\site-packages (from torchvision) (1.19.5)\n",
      "Requirement already satisfied: requests in c:\\users\\synoo\\appdata\\local\\programs\\python\\python37\\lib\\site-packages (from torchvision) (2.31.0)\n",
      "Requirement already satisfied: pillow!=8.3.*,>=5.3.0 in c:\\users\\synoo\\appdata\\local\\programs\\python\\python37\\lib\\site-packages (from torchvision) (7.1.2)\n",
      "Requirement already satisfied: charset-normalizer<4,>=2 in c:\\users\\synoo\\appdata\\local\\programs\\python\\python37\\lib\\site-packages (from requests->torchvision) (3.4.2)\n",
      "Requirement already satisfied: idna<4,>=2.5 in c:\\users\\synoo\\appdata\\local\\programs\\python\\python37\\lib\\site-packages (from requests->torchvision) (3.10)\n",
      "Requirement already satisfied: urllib3<3,>=1.21.1 in c:\\users\\synoo\\appdata\\local\\programs\\python\\python37\\lib\\site-packages (from requests->torchvision) (1.22)\n",
      "Requirement already satisfied: certifi>=2017.4.17 in c:\\users\\synoo\\appdata\\local\\programs\\python\\python37\\lib\\site-packages (from requests->torchvision) (2025.4.26)\n",
      "Note: you may need to restart the kernel to use updated packages.\n"
     ]
    }
   ],
   "source": [
    "pip install torch torchvision"
   ]
  },
  {
   "cell_type": "code",
   "execution_count": null,
   "id": "347c5f67",
   "metadata": {},
   "outputs": [],
   "source": []
  }
 ],
 "metadata": {
  "kernelspec": {
   "display_name": "Python 3 (ipykernel)",
   "language": "python",
   "name": "python3"
  },
  "language_info": {
   "codemirror_mode": {
    "name": "ipython",
    "version": 3
   },
   "file_extension": ".py",
   "mimetype": "text/x-python",
   "name": "python",
   "nbconvert_exporter": "python",
   "pygments_lexer": "ipython3",
   "version": "3.7.9"
  }
 },
 "nbformat": 4,
 "nbformat_minor": 5
}
